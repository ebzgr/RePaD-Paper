{
 "cells": [
  {
   "cell_type": "markdown",
   "id": "2a445f4e-df97-448d-b9c5-27039fe0145a",
   "metadata": {
    "tags": []
   },
   "source": [
    "## Replication Instruction for: A Recursive Partitioning Approach for Dynamic Discrete Choice Models in High-Dimensional Settings"
   ]
  },
  {
   "cell_type": "markdown",
   "id": "fd66c1f7-ceb1-41b7-a115-99dc245ce8d7",
   "metadata": {
    "tags": []
   },
   "source": [
    "### Installation"
   ]
  },
  {
   "cell_type": "markdown",
   "id": "4388f36b-648a-4c5c-b8f2-9d651593fd56",
   "metadata": {},
   "source": [
    "In order to replicate the paper, you first need to install the software package."
   ]
  },
  {
   "cell_type": "markdown",
   "id": "90e1bf2a-a102-41c3-9354-74fe0118486c",
   "metadata": {},
   "source": [
    "1. Download the package from git1. Ensure that you have Python installed on your system. You can download Python from [here](https://www.python.org/downloads/). This code is tested with Python 3.8, but it should work with other 3.x versions as well.\n",
    "\n",
    "2. Clone the repository to your local machine using the following command in your terminal:\n",
    "\n",
    "```bash\n",
    "git clone <repository_url>\n",
    "```\n",
    "\n",
    "3. Navigate to the cloned repository's directory:\n",
    "\n",
    "4. It's recommended to create a virtual environment to isolate the package dependencies. You can do it using:\n",
    "```bash\n",
    "python -m venv env\n",
    "```\n",
    "\n",
    "5. Activate the virtual environment. On Windows, use:\n",
    "```bash\n",
    ".\\env\\Scripts\\activate (On windows)\n",
    "OR \n",
    "source env/bin/activate (On Unix or MacOS)\n",
    "```\n",
    "\n",
    "6. Install the required dependencies:\n",
    "```bash\n",
    "pip install -r RePad/requirements.txt\n",
    "```\n",
    "\n",
    "Congrats! You have successfully installed the package. "
   ]
  },
  {
   "cell_type": "markdown",
   "id": "e428e103-bda9-4e98-9bf6-52637594fa66",
   "metadata": {},
   "source": [
    "### Experiment 1\n",
    "\n",
    "To replicate simulation 1 in our experiment, uncomment the last line and run the following command (**Note:** it is going to take a while for the simulation to finish)"
   ]
  },
  {
   "cell_type": "code",
   "execution_count": 2,
   "id": "743ea52d-8f47-4119-9640-33d399fda5bc",
   "metadata": {
    "tags": []
   },
   "outputs": [],
   "source": [
    "import simulation_1 as sim1\n",
    "import numpy as np\n",
    "np.random.seed(0)\n",
    "#sim1.simulation()"
   ]
  },
  {
   "cell_type": "markdown",
   "id": "3c645210-c33a-46a2-bb48-3caf67c3d886",
   "metadata": {},
   "source": [
    "Then you can see all the generated data (including datasets, discretization, estimation results) in the folder /data/simulation1_results. You can create tables 1 and 2 with the following code."
   ]
  },
  {
   "cell_type": "code",
   "execution_count": 1,
   "id": "dfd70bf8-a8f2-4a3b-b93f-d816e6f63166",
   "metadata": {
    "tags": []
   },
   "outputs": [
    {
     "name": "stdout",
     "output_type": "stream",
     "text": [
      "\\begin{tabular}{llllllll}\n",
      "\\toprule\n",
      "Case No & replacement cost & transit mil & transition type & 1 & 2 & 4 & 6 \\\\\n",
      "\\midrule\n",
      "Case 1 & Dissimilar & Dissimilar & No transition & -0.135 & -0.174 & -0.194 & -0.193 \\\\\n",
      " &  &  &  & (-0.144, -0.128) & (-0.18, -0.167) & (-0.205, -0.187) & (-0.205, -0.187) \\\\\n",
      "Case 2 & Dissimilar & Dissimilar & Random transition & -0.149 & -0.186 & -0.200 & -0.199 \\\\\n",
      " &  &  &  & (-0.156, -0.144) & (-0.192, -0.18) & (-0.206, -0.193) & (-0.205, -0.193) \\\\\n",
      "Case 3 & Dissimilar & Dissimilar & Sparse transition & -0.123 & -0.185 & -0.200 & -0.199 \\\\\n",
      " &  &  &  & (-0.128, -0.118) & (-0.196, -0.169) & (-0.209, -0.192) & (-0.208, -0.192) \\\\\n",
      "Case 4 & Dissimilar & Similar & No transition & -0.164 & -0.191 & -0.199 & -0.198 \\\\\n",
      " &  &  &  & (-0.172, -0.157) & (-0.198, -0.184) & (-0.207, -0.19) & (-0.207, -0.189) \\\\\n",
      "Case 5 & Dissimilar & Similar & Random transition & -0.172 & -0.193 & -0.200 & -0.200 \\\\\n",
      " &  &  &  & (-0.18, -0.166) & (-0.203, -0.182) & (-0.213, -0.19) & (-0.211, -0.189) \\\\\n",
      "Case 6 & Dissimilar & Similar & Sparse transition & -0.170 & -0.099 & -0.200 & -0.200 \\\\\n",
      " &  &  &  & (-0.179, -0.163) & (-0.13, -0.067) & (-0.216, -0.191) & (-0.215, -0.191) \\\\\n",
      "Case 7 & Similar & Dissimilar & No transition & -0.178 & -0.193 & -0.200 & -0.199 \\\\\n",
      " &  &  &  & (-0.186, -0.169) & (-0.2, -0.185) & (-0.206, -0.192) & (-0.206, -0.192) \\\\\n",
      "Case 8 & Similar & Dissimilar & Random transition & -0.185 & -0.196 & -0.200 & -0.199 \\\\\n",
      " &  &  &  & (-0.191, -0.179) & (-0.204, -0.189) & (-0.207, -0.193) & (-0.207, -0.192) \\\\\n",
      "Case 9 & Similar & Dissimilar & Sparse transition & -0.174 & -0.236 & -0.200 & -0.200 \\\\\n",
      " &  &  &  & (-0.184, -0.166) & (-0.252, -0.225) & (-0.213, -0.192) & (-0.213, -0.192) \\\\\n",
      "Case 10 & Similar & Similar & No transition & -0.200 & -0.199 & -0.199 & -0.198 \\\\\n",
      " &  &  &  & (-0.207, -0.193) & (-0.207, -0.192) & (-0.207, -0.192) & (-0.206, -0.191) \\\\\n",
      "Case 11 & Similar & Similar & Random transition & -0.200 & -0.200 & -0.199 & -0.198 \\\\\n",
      " &  &  &  & (-0.207, -0.193) & (-0.207, -0.192) & (-0.206, -0.19) & (-0.205, -0.19) \\\\\n",
      "Case 12 & Similar & Similar & Sparse transition & -0.200 & -0.199 & -0.199 & -0.198 \\\\\n",
      " &  &  &  & (-0.206, -0.191) & (-0.206, -0.191) & (-0.205, -0.191) & (-0.205, -0.19) \\\\\n",
      "\\bottomrule\n",
      "\\end{tabular}\n",
      "\n",
      "\\begin{tabular}{lllllllll}\n",
      "\\toprule\n",
      "Case No & replacement cost & transit mil & transition type & f0 & f1 & f2 & f3 & c_r \\\\\n",
      "\\midrule\n",
      "Case 1 & Dissimilar & Dissimilar & No transition & -6.792 & -5.846 & -4.866 & -4.448 & -5.395 \\\\\n",
      " &  &  &  & (-7.15, -6.521) & (-6.14, -5.639) & (-5.165, -4.659) & (-4.684, -3.96) & (-5.675, -5.147) \\\\\n",
      "Case 2 & Dissimilar & Dissimilar & Random transition & -7.011 & -6.002 & -4.997 & -4.001 & -4.965 \\\\\n",
      " &  &  &  & (-7.221, -6.814) & (-6.161, -5.834) & (-5.177, -4.844) & (-4.157, -3.836) & (-5.108, -4.829) \\\\\n",
      "Case 3 & Dissimilar & Dissimilar & Sparse transition & -7.016 & -6.014 & -5.000 & -4.000 & -4.894 \\\\\n",
      " &  &  &  & (-7.251, -6.747) & (-6.189, -5.848) & (-5.153, -4.87) & (-4.212, -3.834) & (-5.065, -4.771) \\\\\n",
      "Case 4 & Dissimilar & Similar & No transition & -6.986 & -5.987 & -4.987 & -3.989 & -4.687 \\\\\n",
      " &  &  &  & (-7.243, -6.717) & (-6.233, -5.774) & (-5.173, -4.832) & (-4.148, -3.863) & (-4.86, -4.557) \\\\\n",
      "Case 5 & Dissimilar & Similar & Random transition & -7.033 & -6.009 & -5.018 & -4.012 & -4.670 \\\\\n",
      " &  &  &  & (-7.243, -6.8) & (-6.256, -5.766) & (-5.24, -4.825) & (-4.194, -3.833) & (-4.815, -4.545) \\\\\n",
      "Case 6 & Dissimilar & Similar & Sparse transition & -7.043 & -6.009 & -5.004 & -4.001 & -4.725 \\\\\n",
      " &  &  &  & (-7.366, -6.817) & (-6.294, -5.803) & (-5.249, -4.811) & (-4.262, -3.843) & (-4.886, -4.592) \\\\\n",
      "Case 7 & Similar & Dissimilar & No transition & -5.058 & -5.012 & -4.971 & -4.929 & -5.318 \\\\\n",
      " &  &  &  & (-5.223, -4.921) & (-5.115, -4.893) & (-5.088, -4.846) & (-5.059, -4.807) & (-5.511, -5.14) \\\\\n",
      "Case 8 & Similar & Dissimilar & Random transition & -5.042 & -5.013 & -4.986 & -4.960 & -5.043 \\\\\n",
      " &  &  &  & (-5.206, -4.907) & (-5.188, -4.87) & (-5.136, -4.856) & (-5.104, -4.839) & (-5.181, -4.882) \\\\\n",
      "Case 9 & Similar & Dissimilar & Sparse transition & -5.062 & -5.016 & -4.986 & -4.948 & -5.038 \\\\\n",
      " &  &  &  & (-5.272, -4.891) & (-5.205, -4.855) & (-5.179, -4.841) & (-5.114, -4.776) & (-5.226, -4.87) \\\\\n",
      "Case 10 & Similar & Similar & No transition & -5.045 & -4.998 & -4.959 & -4.918 & -4.995 \\\\\n",
      " &  &  &  & (-5.206, -4.888) & (-5.135, -4.855) & (-5.11, -4.813) & (-5.062, -4.773) & (-5.123, -4.852) \\\\\n",
      "Case 11 & Similar & Similar & Random transition & -5.036 & -4.998 & -4.974 & -4.934 & -5.000 \\\\\n",
      " &  &  &  & (-5.232, -4.892) & (-5.151, -4.878) & (-5.103, -4.843) & (-5.078, -4.767) & (-5.119, -4.869) \\\\\n",
      "Case 12 & Similar & Similar & Sparse transition & -5.011 & -4.992 & -4.971 & -4.948 & -4.995 \\\\\n",
      " &  &  &  & (-5.142, -4.888) & (-5.116, -4.883) & (-5.102, -4.848) & (-5.085, -4.82) & (-5.118, -4.875) \\\\\n",
      "\\bottomrule\n",
      "\\end{tabular}\n",
      "\n"
     ]
    }
   ],
   "source": [
    "import tables as tb\n",
    "print(tb.table_1(True))\n",
    "print(tb.table_2(True))"
   ]
  },
  {
   "cell_type": "markdown",
   "id": "7df069e0-a463-4ecd-bd7a-002f3a6248e0",
   "metadata": {},
   "source": [
    "## Simulation 2\n",
    "To replicate simulation 2 in our experiment, uncomment the last line and run the following command (**Note:** This simulation going to take much longer time - it took 9 days in our server)"
   ]
  },
  {
   "cell_type": "code",
   "execution_count": 3,
   "id": "9a17d685-625a-4f6b-9db4-9d212123aa79",
   "metadata": {},
   "outputs": [],
   "source": [
    "import simulation_2 as sim2\n",
    "import numpy as np\n",
    "np.random.seed(0)\n",
    "#sim2.simulation()"
   ]
  },
  {
   "cell_type": "markdown",
   "id": "75fa76cd-8cc0-4bab-ba6b-76422235251d",
   "metadata": {
    "tags": []
   },
   "source": [
    "Then you can see all the generated data (including datasets, discretization, estimation results) in the folder /data/simulation2_results. You can generate table 3 using the following: \n"
   ]
  },
  {
   "cell_type": "code",
   "execution_count": 1,
   "id": "a21b603d-437f-4d7b-8c36-3428b9fe8fd0",
   "metadata": {},
   "outputs": [
    {
     "name": "stdout",
     "output_type": "stream",
     "text": [
      "Reading results of replication 0\n",
      "Reading results of replication 1\n",
      "Reading results of replication 2\n",
      "Reading results of replication 3\n",
      "Reading results of replication 4\n",
      "Reading results of replication 5\n",
      "Reading results of replication 6\n",
      "Reading results of replication 7\n",
      "Reading results of replication 8\n",
      "Reading results of replication 9\n",
      "Reading results of replication 10\n",
      "Reading results of replication 11\n",
      "Reading results of replication 12\n",
      "Reading results of replication 13\n",
      "Reading results of replication 14\n",
      "Reading results of replication 15\n",
      "Reading results of replication 16\n",
      "Reading results of replication 17\n",
      "Reading results of replication 18\n",
      "Reading results of replication 19\n",
      "Reading results of replication 20\n",
      "Reading results of replication 21\n",
      "Reading results of replication 22\n",
      "Reading results of replication 23\n",
      "Reading results of replication 24\n",
      "Reading results of replication 25\n",
      "Reading results of replication 26\n",
      "Reading results of replication 27\n",
      "Reading results of replication 28\n",
      "Reading results of replication 29\n",
      "Reading results of replication 30\n",
      "Reading results of replication 31\n",
      "Reading results of replication 32\n",
      "Reading results of replication 33\n",
      "Reading results of replication 34\n",
      "Reading results of replication 35\n",
      "Reading results of replication 36\n",
      "Reading results of replication 37\n",
      "Reading results of replication 38\n",
      "Reading results of replication 39\n",
      "Reading results of replication 40\n",
      "Reading results of replication 41\n",
      "Reading results of replication 42\n",
      "Reading results of replication 43\n",
      "Reading results of replication 44\n",
      "Reading results of replication 45\n",
      "Reading results of replication 46\n",
      "Reading results of replication 47\n",
      "Reading results of replication 48\n",
      "Reading results of replication 49\n",
      "Reading results of replication 50\n",
      "Reading results of replication 51\n",
      "Reading results of replication 52\n",
      "Reading results of replication 53\n",
      "Reading results of replication 54\n",
      "Reading results of replication 55\n",
      "Reading results of replication 56\n",
      "Reading results of replication 57\n",
      "Reading results of replication 58\n",
      "Reading results of replication 59\n",
      "Reading results of replication 60\n",
      "Reading results of replication 61\n",
      "Reading results of replication 62\n",
      "Reading results of replication 63\n",
      "Reading results of replication 64\n",
      "Reading results of replication 65\n",
      "Reading results of replication 66\n",
      "Reading results of replication 67\n",
      "Reading results of replication 68\n",
      "Reading results of replication 69\n",
      "Reading results of replication 70\n",
      "Reading results of replication 71\n",
      "Reading results of replication 72\n",
      "Reading results of replication 73\n",
      "Reading results of replication 74\n",
      "Reading results of replication 75\n",
      "Reading results of replication 76\n",
      "Reading results of replication 77\n",
      "Reading results of replication 78\n",
      "Reading results of replication 79\n",
      "Reading results of replication 80\n",
      "Reading results of replication 81\n",
      "Reading results of replication 82\n",
      "Reading results of replication 83\n",
      "Reading results of replication 84\n",
      "Reading results of replication 85\n",
      "Reading results of replication 86\n",
      "Reading results of replication 87\n",
      "Reading results of replication 88\n",
      "Reading results of replication 89\n",
      "Reading results of replication 90\n",
      "Reading results of replication 91\n",
      "Reading results of replication 92\n",
      "Reading results of replication 93\n",
      "Reading results of replication 94\n",
      "Reading results of replication 95\n",
      "Reading results of replication 96\n",
      "Reading results of replication 97\n",
      "Reading results of replication 98\n",
      "Reading results of replication 99\n",
      "[('Case No', ''), ('bus periods', ''), ('transition_sparsity', ''), ('affect transition', ''), ('value', 0.0), ('value', 0.2), ('value', 0.5), ('value', 1.0), ('value', 2.0), ('value', 5.0), ('value', 100.0)]\n",
      "\\begin{tabular}{lrllrrrrrrr}\n",
      "\\toprule\n",
      "Case No & bus periods & transition_sparsity & affect transition & \\multicolumn{7}{r}{value} \\\\\n",
      " &  &  &  & 0.000000 & 0.200000 & 0.500000 & 1.000000 & 2.000000 & 5.000000 & 100.000000 \\\\\n",
      "\\midrule\n",
      "Case 1 & 100 & Sparse & Yes & -3778 & -3530 & -3328 & -3151 & -3016 & -2906 & -2811 \\\\\n",
      "Case 2 & 100 & Sparse & No & -3772 & -3559 & -3429 & -3343 & -3267 & -3224 & -3233 \\\\\n",
      "Case 3 & 100 & Random & Yes & -3783 & -3803 & -3786 & -3821 & -3875 & -3972 & -4125 \\\\\n",
      "Case 4 & 100 & Random & No & -3715 & -3794 & -3880 & -3973 & -4078 & -4208 & -4389 \\\\\n",
      "Case 5 & 400 & Sparse & Yes & -13478 & -13179 & -12796 & -12375 & -11994 & -11664 & -11393 \\\\\n",
      "Case 6 & 400 & Sparse & No & -13839 & -13696 & -13516 & -13323 & -13104 & -12994 & -13042 \\\\\n",
      "Case 7 & 400 & Random & Yes & -13634 & -13754 & -13854 & -13928 & -13993 & -14158 & -14355 \\\\\n",
      "Case 8 & 400 & Random & No & -13673 & -13987 & -14303 & -14619 & -14936 & -15264 & -15643 \\\\\n",
      "\\bottomrule\n",
      "\\end{tabular}\n",
      "\n"
     ]
    }
   ],
   "source": [
    "import tables as tb\n",
    "print(tb.table_3(100, 30,True))"
   ]
  },
  {
   "cell_type": "markdown",
   "id": "aa176b77-0e16-43da-9744-380890aa25b6",
   "metadata": {},
   "source": [
    "You can generate figure A3 using the following line of code:"
   ]
  },
  {
   "cell_type": "code",
   "execution_count": 1,
   "id": "9af1a254-000c-442b-97f3-cb9a0bfdf5f7",
   "metadata": {
    "tags": []
   },
   "outputs": [
    {
     "name": "stdout",
     "output_type": "stream",
     "text": [
      "Reading results of replication 0\n",
      "Reading results of replication 1\n",
      "Reading results of replication 2\n",
      "Reading results of replication 3\n",
      "Reading results of replication 4\n",
      "Reading results of replication 5\n",
      "Reading results of replication 6\n",
      "Reading results of replication 7\n",
      "Reading results of replication 8\n",
      "Reading results of replication 9\n",
      "Reading results of replication 10\n",
      "Reading results of replication 11\n",
      "Reading results of replication 12\n",
      "Reading results of replication 13\n",
      "Reading results of replication 14\n",
      "Reading results of replication 15\n",
      "Reading results of replication 16\n",
      "Reading results of replication 17\n",
      "Reading results of replication 18\n",
      "Reading results of replication 19\n",
      "Reading results of replication 20\n",
      "Reading results of replication 21\n",
      "Reading results of replication 22\n",
      "Reading results of replication 23\n",
      "Reading results of replication 24\n",
      "Reading results of replication 25\n",
      "Reading results of replication 26\n",
      "Reading results of replication 27\n",
      "Reading results of replication 28\n",
      "Reading results of replication 29\n",
      "Reading results of replication 30\n",
      "Reading results of replication 31\n",
      "Reading results of replication 32\n",
      "Reading results of replication 33\n",
      "Reading results of replication 34\n",
      "Reading results of replication 35\n",
      "Reading results of replication 36\n",
      "Reading results of replication 37\n",
      "Reading results of replication 38\n",
      "Reading results of replication 39\n",
      "Reading results of replication 40\n",
      "Reading results of replication 41\n",
      "Reading results of replication 42\n",
      "Reading results of replication 43\n",
      "Reading results of replication 44\n",
      "Reading results of replication 45\n",
      "Reading results of replication 46\n",
      "Reading results of replication 47\n",
      "Reading results of replication 48\n",
      "Reading results of replication 49\n",
      "Reading results of replication 50\n",
      "Reading results of replication 51\n",
      "Reading results of replication 52\n",
      "Reading results of replication 53\n",
      "Reading results of replication 54\n",
      "Reading results of replication 55\n",
      "Reading results of replication 56\n",
      "Reading results of replication 57\n",
      "Reading results of replication 58\n",
      "Reading results of replication 59\n",
      "Reading results of replication 60\n",
      "Reading results of replication 61\n",
      "Reading results of replication 62\n",
      "Reading results of replication 63\n",
      "Reading results of replication 64\n",
      "Reading results of replication 65\n",
      "Reading results of replication 66\n",
      "Reading results of replication 67\n",
      "Reading results of replication 68\n",
      "Reading results of replication 69\n",
      "Reading results of replication 70\n",
      "Reading results of replication 71\n",
      "Reading results of replication 72\n",
      "Reading results of replication 73\n",
      "Reading results of replication 74\n",
      "Reading results of replication 75\n",
      "Reading results of replication 76\n",
      "Reading results of replication 77\n",
      "Reading results of replication 78\n",
      "Reading results of replication 79\n",
      "Reading results of replication 80\n",
      "Reading results of replication 81\n",
      "Reading results of replication 82\n",
      "Reading results of replication 83\n",
      "Reading results of replication 84\n",
      "Reading results of replication 85\n",
      "Reading results of replication 86\n",
      "Reading results of replication 87\n",
      "Reading results of replication 88\n",
      "Reading results of replication 89\n",
      "Reading results of replication 90\n",
      "Reading results of replication 91\n",
      "Reading results of replication 92\n",
      "Reading results of replication 93\n",
      "Reading results of replication 94\n",
      "Reading results of replication 95\n",
      "Reading results of replication 96\n",
      "Reading results of replication 97\n",
      "Reading results of replication 98\n",
      "Reading results of replication 99\n"
     ]
    },
    {
     "data": {
      "image/png": "[encoded data removed]",
      "text/plain": [
       "<Figure size 640x480 with 1 Axes>"
      ]
     },
     "metadata": {},
     "output_type": "display_data"
    },
    {
     "data": {
      "image/png": "[encoded data removed]",
      "text/plain": [
       "<Figure size 640x480 with 1 Axes>"
      ]
     },
     "metadata": {},
     "output_type": "display_data"
    }
   ],
   "source": [
    "import tables as tb\n",
    "import matplotlib.pyplot as plt\n",
    "fig1, fig2 = tb.figure_a3(100, 30)\n",
    "plt.show()"
   ]
  },
  {
   "cell_type": "markdown",
   "id": "f3f5e71d-f776-407e-be21-7a2224bdb63d",
   "metadata": {},
   "source": [
    "Please reach out to ebzgry@gmail.com or hemay@uw.edu if you experience any problem with the replication package."
   ]
  },
  {
   "cell_type": "code",
   "execution_count": null,
   "id": "2f441f47-f280-4c19-b7ca-ed2c3e880e89",
   "metadata": {},
   "outputs": [],
   "source": []
  }
 ],
 "metadata": {
  "kernelspec": {
   "display_name": "repadenv",
   "language": "python",
   "name": "repadenv"
  },
  "language_info": {
   "codemirror_mode": {
    "name": "ipython",
    "version": 3
   },
   "file_extension": ".py",
   "mimetype": "text/x-python",
   "name": "python",
   "nbconvert_exporter": "python",
   "pygments_lexer": "ipython3",
   "version": "3.9.7"
  }
 },
 "nbformat": 4,
 "nbformat_minor": 5
}
